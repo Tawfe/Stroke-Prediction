import pandas as pd
from sklearn.naive_bayes import GaussianNB

# Reading the data from a train.csv file
train_data = pd.read_csv("/kaggle/input/test-data/train.csv")

# Why converted the datatypes into integers? Because we cannot classify non_numeric data
train_data.gender.replace({'Male':0,'Female':1,'Other':2}, inplace = True)
train_data.ever_married.replace({'Yes':1,'No':0}, inplace = True)
train_data.work_type.replace({'Never_worked':4,'children':3,'Private':2,'Self-employed':1,'Govt_job':0}, inplace = True)
train_data.Residence_type.replace({'Rural':1,'Urban':0}, inplace = True)
train_data.smoking_status.replace({'Unknown':3,'smokes':2,'formerly smoked':1,'never smoked':0}, inplace = True)

# How did I find out about other string values that needed to be replaced?
#I used pd.set_option(display.max_rows, None)

# Prediction doesn't work if we have null values, so we replace those with zeros.
train_data.fillna(0, inplace = True)

# Splitting the data so we can train it using fit method.
x = train_data.drop("stroke", axis = 1)
y = train_data["stroke"]

# Assigning the classifier into a variable so we can use it to train our data.
nai = GaussianNB()
# Fitting the model to the training data.
nai.fit(x, y)

# Reading the data we want to test from a csv file.
test_data = pd.read_csv('/kaggle/input/test-data/test.csv')

# Converting the datatypes into integers for the test_data
test_data.gender.replace({'Male':0,'Female':1,'Other':2}, inplace = True)
test_data.ever_married.replace({'Yes':1,'No':0}, inplace = True)
test_data.work_type.replace({'Never_worked':4,'children':3,'Private':2,'Self-employed':1,'Govt_job':0}, inplace = True)
test_data.Residence_type.replace({'Rural':1,'Urban':0}, inplace = True)
test_data.smoking_status.replace({'Unknown':3,'smokes':2,'formerly smoked':1,'never smoked':0}, inplace = True)

# We get rid of the null values to be able to predict without errors
test_data.fillna(0, inplace = True)

nai_predict = nai.predict(test_data)
# We save the id column in a variable to use it in creating the data frame.
id = test_data["id"]

# Creating a dataframe for the predicted data and export it as a csv file.
nai_dataset = pd.DataFrame({'id':id, 'Stroke':nai_predict})
nai_dataset.to_csv('nai V17.csv', index = False)